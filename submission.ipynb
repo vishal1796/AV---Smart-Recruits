{
 "cells": [
  {
   "cell_type": "code",
   "execution_count": 1,
   "metadata": {
    "collapsed": true
   },
   "outputs": [],
   "source": [
    "%matplotlib inline\n",
    "import numpy as np\n",
    "import pandas as pd\n",
    "import matplotlib.pyplot as plt\n",
    "import seaborn as sns\n",
    "sns.set(style='darkgrid')"
   ]
  },
  {
   "cell_type": "code",
   "execution_count": 2,
   "metadata": {
    "collapsed": true
   },
   "outputs": [],
   "source": [
    "df_train= pd.read_csv('data/Train_pjb2QcD.csv', header=0)"
   ]
  },
  {
   "cell_type": "code",
   "execution_count": 3,
   "metadata": {
    "collapsed": true
   },
   "outputs": [],
   "source": [
    "X = df_train.drop(['ID','Applicant_BirthDate', 'Business_Sourced', 'Applicant_City_PIN', 'Manager_DoB'], axis=1)\n",
    "y = df_train['Business_Sourced']"
   ]
  },
  {
   "cell_type": "code",
   "execution_count": 4,
   "metadata": {
    "collapsed": true
   },
   "outputs": [],
   "source": [
    "X['Applicant_Gender'] = X['Applicant_Gender'].fillna( X.Applicant_Gender.dropna().mode().values[0])\n",
    "X['Applicant_Gender'] = X['Applicant_Gender'].map({'F':0, 'M':1}).astype(np.int)\n",
    "\n",
    "X['Applicant_Marital_Status'] = X['Applicant_Marital_Status'].fillna( X.Applicant_Marital_Status.dropna().mode().values[0])\n",
    "X['Applicant_Marital_Status'] = X['Applicant_Marital_Status'].map({'S':0, 'M':1})\n",
    "\n",
    "X['Manager_Gender'] = X['Manager_Gender'].fillna( X.Manager_Gender.dropna().mode().values[0])\n",
    "X['Manager_Gender'] = X['Manager_Gender'].map({'F':0, 'M':1})\n",
    "\n",
    "X['Manager_Status'] = X['Manager_Status'].fillna( X.Manager_Status.dropna().mode().values[0])\n",
    "X['Manager_Status'] = X['Manager_Status'].map({'Probation':0, 'Confirmation':1}).astype(np.int)\n",
    "\n",
    "X['Applicant_Occupation'] = X['Applicant_Occupation'].fillna( X.Applicant_Occupation.dropna().mode().values[0])\n",
    "X['Applicant_Occupation'] = X['Applicant_Occupation'].map({'Others':0, 'Business':1, 'Salaried':2,\n",
    "                                                           'Self Employed':3,'Student':4}).astype(np.int)\n",
    "\n",
    "X['Applicant_Qualification'] = X['Applicant_Qualification'].fillna( X.Applicant_Qualification.dropna().mode().values[0])\n",
    "X['Applicant_Qualification'] = X['Applicant_Qualification'].map({'Graduate':0,\n",
    "                                                                 'Class XII':1,\n",
    "                                                                 'Class X':2, \n",
    "                                                                 'Masters of Business Administration':3,\n",
    "                                                                 'Associate/Fellow of Institute of Company Secretories of India':4,\n",
    "                                                                 'Associate / Fellow of Institute of Chartered Accountans of India':5,\n",
    "                                                                 'Others':6,\n",
    "                                                                 'Associate/Fellow of Insurance Institute of India':7,\n",
    "                                                                 'Associate/Fellow of Acturial Society of India':8,\n",
    "                                                                 'Certified Associateship of Indian Institute of Bankers':9,\n",
    "                                                                 'Professional Qualification in Marketing':10}).astype(np.int)\n",
    "\n",
    "\n",
    "X['Manager_Joining_Designation'] = X['Manager_Joining_Designation'].fillna( X.Manager_Joining_Designation.dropna().mode().values[0])\n",
    "X['Manager_Joining_Designation'] = X['Manager_Joining_Designation'].map({'Other':0, 'Level 1':1, 'Level 2':2,\n",
    "                                                                         'Level 3':3, 'Level 4':4, 'Level 5':5,\n",
    "                                                                         'Level 6':6, 'Level 7':7}).astype(np.int)\n",
    "\n",
    "X['Manager_Current_Designation'] = X['Manager_Current_Designation'].fillna( X.Manager_Current_Designation.dropna().mode().values[0])\n",
    "X['Manager_Current_Designation'] = X['Manager_Current_Designation'].map({'Level 1':1, 'Level 2':2, 'Level 3':3,\n",
    "                                                                         'Level 4':4, 'Level 5':5}).astype(np.int)"
   ]
  },
  {
   "cell_type": "code",
   "execution_count": 5,
   "metadata": {
    "collapsed": true
   },
   "outputs": [],
   "source": [
    "X['Manager_Num_Application'] = X['Manager_Num_Application'].fillna( X.Manager_Num_Application.dropna().mode().values[0]).astype(np.int)\n",
    "X['Manager_Num_Coded'] = X['Manager_Num_Coded'].fillna( X.Manager_Num_Coded.dropna().mode().values[0]).astype(np.int)\n",
    "X['Manager_Num_Products'] = X['Manager_Num_Products'].fillna( X.Manager_Num_Products.dropna().mode().values[0]).astype(np.int)\n",
    "X['Manager_Num_Products2'] = X['Manager_Num_Products2'].fillna( X.Manager_Num_Products2.dropna().mode().values[0]).astype(np.int)\n",
    "X['Manager_Business'] = X['Manager_Business'].fillna( X.Manager_Business.dropna().mean()).astype(np.int)\n",
    "X['Manager_Business2'] = X['Manager_Business2'].fillna( X.Manager_Business2.dropna().mean()).astype(np.int)\n",
    "\n",
    "X['Manager_Grade'] = X['Manager_Grade'].fillna( X.Manager_Grade.dropna().mode().values[0]).astype(np.int)\n",
    "X['Applicant_Receipt_Month'] = [t.month for t in pd.DatetimeIndex(X.Application_Receipt_Date)]\n",
    "X['Manager_Join_Year'] = [t.year for t in pd.DatetimeIndex(X.Manager_DOJ)]\n",
    "X['Manager_Join_Month'] = [t.month for t in pd.DatetimeIndex(X.Manager_DOJ)]\n",
    "X= X.drop(['Application_Receipt_Date', 'Manager_DOJ'], axis=1)\n",
    "X['Manager_Join_Year'] = X['Manager_Join_Year'].fillna( X.Manager_Join_Year.dropna().mean()).astype(np.int)\n",
    "X['Manager_Join_Month'] = X['Manager_Join_Month'].fillna( X.Manager_Join_Month.dropna().mean()).astype(np.int)\n",
    "\n",
    "X['Applicant_Marital_Status'] = X['Applicant_Marital_Status'].fillna( X.Applicant_Marital_Status.dropna().mode().values[0])\n",
    "\n",
    "from sklearn.preprocessing import LabelEncoder\n",
    "le = LabelEncoder()\n",
    "X['Office_PIN'] = le.fit_transform(X['Office_PIN'])"
   ]
  },
  {
   "cell_type": "code",
   "execution_count": 6,
   "metadata": {
    "collapsed": false
   },
   "outputs": [],
   "source": [
    "from sklearn.preprocessing import StandardScaler\n",
    "sle = StandardScaler()\n",
    "X_std = sle.fit_transform(X)"
   ]
  },
  {
   "cell_type": "code",
   "execution_count": 7,
   "metadata": {
    "collapsed": false
   },
   "outputs": [
    {
     "data": {
      "text/plain": [
       "RandomForestClassifier(bootstrap=True, class_weight=None, criterion='entropy',\n",
       "            max_depth=None, max_features='auto', max_leaf_nodes=None,\n",
       "            min_samples_leaf=1, min_samples_split=2,\n",
       "            min_weight_fraction_leaf=0.0, n_estimators=500, n_jobs=-1,\n",
       "            oob_score=True, random_state=1, verbose=0, warm_start=False)"
      ]
     },
     "execution_count": 7,
     "metadata": {},
     "output_type": "execute_result"
    }
   ],
   "source": [
    "from sklearn.ensemble import RandomForestClassifier\n",
    "forest = RandomForestClassifier(criterion = 'entropy', n_estimators=500, oob_score=True, random_state=1, n_jobs=-1)\n",
    "forest.fit(X_std, y)"
   ]
  },
  {
   "cell_type": "code",
   "execution_count": 8,
   "metadata": {
    "collapsed": true
   },
   "outputs": [],
   "source": [
    "def repredict(est,t, xtest):\n",
    "    probs=est.predict_proba(xtest)\n",
    "    p0 = probs[:,0]\n",
    "    p1 = probs[:,1]\n",
    "    ypred = (p1 >= t)*1\n",
    "    return ypred"
   ]
  },
  {
   "cell_type": "code",
   "execution_count": 9,
   "metadata": {
    "collapsed": true
   },
   "outputs": [],
   "source": [
    "df_test = pd.read_csv('data/Test_wyCirpO.csv')"
   ]
  },
  {
   "cell_type": "code",
   "execution_count": 10,
   "metadata": {
    "collapsed": false
   },
   "outputs": [],
   "source": [
    "test_X = df_test.drop(['ID','Applicant_BirthDate', 'Applicant_City_PIN', 'Manager_DoB'], axis=1)"
   ]
  },
  {
   "cell_type": "code",
   "execution_count": 11,
   "metadata": {
    "collapsed": false
   },
   "outputs": [],
   "source": [
    "test_X['Applicant_Gender']= test_X['Applicant_Gender'].fillna( test_X['Applicant_Gender'].dropna().mode().values[0])\n",
    "test_X['Applicant_Gender'] = test_X['Applicant_Gender'].map({'F':0, 'M':1})\n",
    "\n",
    "test_X['Applicant_Marital_Status'] = test_X['Applicant_Marital_Status'].fillna(test_X.Applicant_Marital_Status.dropna().mode().values[0])\n",
    "test_X['Applicant_Marital_Status'] = test_X['Applicant_Marital_Status'].map({'S':0, 'M':1})\n",
    "\n",
    "test_X['Manager_Gender'] = test_X['Manager_Gender'].fillna( test_X.Manager_Gender.dropna().mode().values[0])\n",
    "test_X['Manager_Gender'] = test_X['Manager_Gender'].map({'F':0, 'M':1})\n",
    "\n",
    "test_X['Manager_Status'] = test_X['Manager_Status'].fillna( test_X.Manager_Status.dropna().mode().values[0])\n",
    "test_X['Manager_Status'] = test_X['Manager_Status'].map({'Probation':0, 'Confirmation':1})\n",
    "\n",
    "test_X['Applicant_Occupation'] = test_X['Applicant_Occupation'].fillna( test_X.Applicant_Occupation.dropna().mode().values[0])\n",
    "test_X['Applicant_Occupation'] = test_X['Applicant_Occupation'].map({'Others':0, 'Business':1, 'Salaried':2,\n",
    "                                                           'Self Employed':3,'Student':4})\n",
    "\n",
    "test_X['Applicant_Qualification'] = test_X['Applicant_Qualification'].fillna( test_X.Applicant_Qualification.dropna().mode().values[0])\n",
    "test_X['Applicant_Qualification'] = test_X['Applicant_Qualification'].map({'Graduate':0,\n",
    "                                                                 'Class XII':1,\n",
    "                                                                 'Class X':2, \n",
    "                                                                 'Masters of Business Administration':3,\n",
    "                                                                 'Associate/Fellow of Institute of Company Secretories of India':4,\n",
    "                                                                 'Associate / Fellow of Institute of Chartered Accountans of India':5,\n",
    "                                                                 'Others':6,\n",
    "                                                                 'Associate/Fellow of Insurance Institute of India':7,\n",
    "                                                                 'Associate/Fellow of Acturial Society of India':8,\n",
    "                                                                 'Certified Associateship of Indian Institute of Bankers':9,\n",
    "                                                                 'Professional Qualification in Marketing':10})\n",
    "\n",
    "\n",
    "test_X['Manager_Joining_Designation'] = test_X['Manager_Joining_Designation'].fillna( test_X.Manager_Joining_Designation.dropna().mode().values[0])\n",
    "test_X['Manager_Joining_Designation'] = test_X['Manager_Joining_Designation'].map({'Other':0, 'Level 1':1, 'Level 2':2,\n",
    "                                                                         'Level 3':3, 'Level 4':4, 'Level 5':5,\n",
    "                                                                         'Level 6':6, 'Level 7':7})\n",
    "\n",
    "test_X['Manager_Current_Designation'] = test_X['Manager_Current_Designation'].fillna( test_X.Manager_Current_Designation.dropna().mode().values[0])\n",
    "test_X['Manager_Current_Designation'] = test_X['Manager_Current_Designation'].map({'Level 1':1, 'Level 2':2, 'Level 3':3,\n",
    "                                                                         'Level 4':4, 'Level 5':5})"
   ]
  },
  {
   "cell_type": "code",
   "execution_count": 12,
   "metadata": {
    "collapsed": true
   },
   "outputs": [],
   "source": [
    "test_X['Manager_Num_Application'] =test_X['Manager_Num_Application'].fillna( test_X.Manager_Num_Application.dropna().mode().values[0]).astype(np.int)\n",
    "test_X['Manager_Num_Coded'] = test_X['Manager_Num_Coded'].fillna( test_X.Manager_Num_Coded.dropna().mode().values[0]).astype(np.int)\n",
    "test_X['Manager_Num_Products'] = test_X['Manager_Num_Products'].fillna( test_X.Manager_Num_Products.dropna().mode().values[0]).astype(np.int)\n",
    "test_X['Manager_Num_Products2'] = test_X['Manager_Num_Products2'].fillna( test_X.Manager_Num_Products2.dropna().mode().values[0]).astype(np.int)\n",
    "test_X['Manager_Business'] = test_X['Manager_Business'].fillna( test_X.Manager_Business.dropna().mean()).astype(np.int)\n",
    "test_X['Manager_Business2'] = test_X['Manager_Business2'].fillna( test_X.Manager_Business2.dropna().mean()).astype(np.int)"
   ]
  },
  {
   "cell_type": "code",
   "execution_count": 13,
   "metadata": {
    "collapsed": true
   },
   "outputs": [],
   "source": [
    "test_X['Manager_Grade'] = test_X['Manager_Grade'].fillna( test_X.Manager_Grade.dropna().mode().values[0]).astype(np.int)"
   ]
  },
  {
   "cell_type": "code",
   "execution_count": 14,
   "metadata": {
    "collapsed": true
   },
   "outputs": [],
   "source": [
    "test_X['Applicant_Receipt_Month'] = [t.month for t in pd.DatetimeIndex(test_X.Application_Receipt_Date)]\n",
    "test_X['Manager_Join_Year'] = [t.year for t in pd.DatetimeIndex(test_X.Manager_DOJ)]\n",
    "test_X['Manager_Join_Month'] = [t.month for t in pd.DatetimeIndex(test_X.Manager_DOJ)]\n",
    "test_X= test_X.drop(['Application_Receipt_Date', 'Manager_DOJ'], axis=1)\n",
    "test_X['Manager_Join_Year'] = test_X['Manager_Join_Year'].fillna( test_X.Manager_Join_Year.dropna().mean()).astype(np.int)\n",
    "test_X['Manager_Join_Month'] = test_X['Manager_Join_Month'].fillna( test_X.Manager_Join_Month.dropna().mean()).astype(np.int)\n",
    "\n",
    "test_X['Applicant_Marital_Status'] = test_X['Applicant_Marital_Status'].fillna( test_X.Applicant_Marital_Status.dropna().mode().values[0])\n",
    "\n",
    "\n",
    "test_X['Office_PIN'] = le.fit_transform(test_X['Office_PIN'])"
   ]
  },
  {
   "cell_type": "code",
   "execution_count": 15,
   "metadata": {
    "collapsed": true
   },
   "outputs": [],
   "source": [
    "test_X['Applicant_Qualification'] = test_X['Applicant_Qualification'].fillna( test_X.Applicant_Qualification.dropna().mode().values[0])"
   ]
  },
  {
   "cell_type": "code",
   "execution_count": 16,
   "metadata": {
    "collapsed": true
   },
   "outputs": [],
   "source": [
    "test_X_std = sle.transform(test_X)\n",
    "test_y= repredict(forest, .42, test_X_std)"
   ]
  },
  {
   "cell_type": "code",
   "execution_count": 17,
   "metadata": {
    "collapsed": true
   },
   "outputs": [],
   "source": [
    "df_sub = df_test"
   ]
  },
  {
   "cell_type": "code",
   "execution_count": 18,
   "metadata": {
    "collapsed": false
   },
   "outputs": [],
   "source": [
    "df_sub['Business_Sourced'] = test_y"
   ]
  },
  {
   "cell_type": "code",
   "execution_count": 19,
   "metadata": {
    "collapsed": false
   },
   "outputs": [],
   "source": [
    "df_sub = df_sub.drop(['Office_PIN', 'Application_Receipt_Date', 'Applicant_City_PIN', 'Applicant_Gender', 'Applicant_BirthDate', \n",
    "                      'Applicant_Marital_Status', 'Applicant_Occupation', 'Applicant_Qualification', 'Manager_DOJ',\n",
    "                      'Manager_Joining_Designation', 'Manager_Current_Designation', 'Manager_Grade', 'Manager_Status',\n",
    "                      'Manager_Gender', 'Manager_DoB', 'Manager_Num_Application', 'Manager_Num_Coded', 'Manager_Business',\n",
    "                      'Manager_Num_Products', 'Manager_Business2', 'Manager_Num_Products2'], axis=1)"
   ]
  },
  {
   "cell_type": "code",
   "execution_count": 20,
   "metadata": {
    "collapsed": true
   },
   "outputs": [],
   "source": [
    "df_sub.to_csv('my_submission.csv', index=False)"
   ]
  }
 ],
 "metadata": {
  "kernelspec": {
   "display_name": "Python 3",
   "language": "python",
   "name": "python3"
  },
  "language_info": {
   "codemirror_mode": {
    "name": "ipython",
    "version": 3
   },
   "file_extension": ".py",
   "mimetype": "text/x-python",
   "name": "python",
   "nbconvert_exporter": "python",
   "pygments_lexer": "ipython3",
   "version": "3.5.2"
  }
 },
 "nbformat": 4,
 "nbformat_minor": 0
}
